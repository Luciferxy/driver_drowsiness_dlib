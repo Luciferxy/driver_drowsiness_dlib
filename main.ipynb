{
 "cells": [
  {
   "cell_type": "code",
   "id": "initial_id",
   "metadata": {
    "collapsed": true,
    "ExecuteTime": {
     "end_time": "2024-11-27T06:14:36.256129Z",
     "start_time": "2024-11-27T06:14:35.657746Z"
    }
   },
   "source": [
    "import rects\n",
    "# import the necessary packages\n",
    "from scipy.spatial import distance as dist\n",
    "from imutils.video import VideoStream\n",
    "from imutils import face_utils\n",
    "from threading import Thread\n",
    "import numpy as np\n",
    "import playsound\n",
    "import argparse\n",
    "import imutils\n",
    "import time\n",
    "import dlib\n",
    "import cv2"
   ],
   "outputs": [],
   "execution_count": 1
  },
  {
   "metadata": {
    "ExecuteTime": {
     "end_time": "2024-11-27T06:14:36.276113Z",
     "start_time": "2024-11-27T06:14:36.270321Z"
    }
   },
   "cell_type": "code",
   "source": [
    "def sound_alarm(path):\n",
    "\t# play an alarm sound\n",
    "\tplaysound.playsound(path)"
   ],
   "id": "2c24c734b2d95b6f",
   "outputs": [],
   "execution_count": 2
  },
  {
   "metadata": {
    "ExecuteTime": {
     "end_time": "2024-11-27T06:14:36.286908Z",
     "start_time": "2024-11-27T06:14:36.282124Z"
    }
   },
   "cell_type": "code",
   "source": [
    "def eye_aspect_ratio(eye):\n",
    "\t# compute the euclidean distances between the two sets of\n",
    "\t# vertical eye landmarks (x, y)-coordinates\n",
    "\tA = dist.euclidean(eye[1], eye[5])\n",
    "\tB = dist.euclidean(eye[2], eye[4])\n",
    "\t# compute the euclidean distance between the horizontal\n",
    "\t# eye landmark (x, y)-coordinates\n",
    "\tC = dist.euclidean(eye[0], eye[3])\n",
    "\t# compute the eye aspect ratio\n",
    "\tear = (A + B) / (2.0 * C)\n",
    "\t# return the eye aspect ratio\n",
    "\treturn ear"
   ],
   "id": "da869dffaf6f0d4",
   "outputs": [],
   "execution_count": 3
  },
  {
   "metadata": {
    "ExecuteTime": {
     "end_time": "2024-11-27T06:14:36.310127Z",
     "start_time": "2024-11-27T06:14:36.302704Z"
    }
   },
   "cell_type": "code",
   "source": [
    "import sys\n",
    "sys.argv = ['your_script.py', '-p', 'path/to/shape_predictor_68_face_landmarks.dat']\n",
    "\n",
    "# Argument parsing\n",
    "ap = argparse.ArgumentParser()\n",
    "ap.add_argument(\"-p\", \"--shape-predictor\", required=True, help=\"shape_predictor_68_face_landmarks.dat\")\n",
    "ap.add_argument(\"-a\", \"--alarm\", type=str, default=\"384967__bajko__sfx_seatbelt-warning_auto.wav\", help=\"Path to alarm .WAV file\")\n",
    "ap.add_argument(\"-w\", \"--webcam\", type=int, default=0, help=\"index of webcam on system\")\n",
    "args = vars(ap.parse_args())\n",
    "\n",
    "print(args)\n",
    "\n"
   ],
   "id": "b1c94eddf2f8fa49",
   "outputs": [
    {
     "name": "stdout",
     "output_type": "stream",
     "text": [
      "{'shape_predictor': 'path/to/shape_predictor_68_face_landmarks.dat', 'alarm': '384967__bajko__sfx_seatbelt-warning_auto.wav', 'webcam': 0}\n"
     ]
    }
   ],
   "execution_count": 4
  },
  {
   "metadata": {
    "ExecuteTime": {
     "end_time": "2024-11-27T06:14:36.789263Z",
     "start_time": "2024-11-27T06:14:36.784856Z"
    }
   },
   "cell_type": "code",
   "source": [
    "# define two constants, one for the eye aspect ratio to indicate\n",
    "# blink and then a second constant for the number of consecutive\n",
    "# frames the eye must be below the threshold for to set off the\n",
    "# alarm\n",
    "EYE_AR_THRESH = 0.2\n",
    "EYE_AR_CONSEC_FRAMES = 48\n",
    "# initialize the frame counter as well as a boolean used to\n",
    "# indicate if the alarm is going off\n",
    "COUNTER = 0\n",
    "ALARM_ON = False"
   ],
   "id": "aa26657062c2e55e",
   "outputs": [],
   "execution_count": 5
  },
  {
   "metadata": {
    "ExecuteTime": {
     "end_time": "2024-11-27T06:14:38.268585Z",
     "start_time": "2024-11-27T06:14:36.873846Z"
    }
   },
   "cell_type": "code",
   "source": [
    "# initialize dlib's face detector (HOG-based) and then create\n",
    "# the facial landmark predictor\n",
    "print(\"[INFO] loading facial landmark predictor...\")\n",
    "detector = dlib.get_frontal_face_detector()\n",
    "predictor = dlib.shape_predictor(\"shape_predictor_68_face_landmarks.dat\")"
   ],
   "id": "2297e8c889e361af",
   "outputs": [
    {
     "name": "stdout",
     "output_type": "stream",
     "text": [
      "[INFO] loading facial landmark predictor...\n"
     ]
    }
   ],
   "execution_count": 6
  },
  {
   "metadata": {
    "ExecuteTime": {
     "end_time": "2024-11-27T06:14:38.290729Z",
     "start_time": "2024-11-27T06:14:38.284160Z"
    }
   },
   "cell_type": "code",
   "source": [
    "# grab the indexes of the facial landmarks for the left and\n",
    "# right eye, respectively\n",
    "(lStart, lEnd) = face_utils.FACIAL_LANDMARKS_IDXS[\"left_eye\"]\n",
    "(rStart, rEnd) = face_utils.FACIAL_LANDMARKS_IDXS[\"right_eye\"]"
   ],
   "id": "373a7d80bc130a4e",
   "outputs": [],
   "execution_count": 7
  },
  {
   "metadata": {
    "ExecuteTime": {
     "end_time": "2024-11-27T06:15:07.793532Z",
     "start_time": "2024-11-27T06:14:38.311952Z"
    }
   },
   "cell_type": "code",
   "source": [
    "import cv2\n",
    "from imutils.video import VideoStream\n",
    "import time\n",
    "from threading import Thread\n",
    "import imutils\n",
    "\n",
    "# Global alarm state\n",
    "ALARM_ON = False\n",
    "\n",
    "def sound_alarm(file_path):\n",
    "    # Play the alarm sound (implement this function as needed)\n",
    "    # You can use libraries such as playsound to play the .wav file\n",
    "    from playsound import playsound\n",
    "    playsound(file_path)\n",
    "\n",
    "# Start the video stream thread\n",
    "print(\"[INFO] starting video stream thread...\")\n",
    "vs = VideoStream(src=args[\"webcam\"]).start()  # Start video stream\n",
    "time.sleep(1.0)\n",
    "\n",
    "try:\n",
    "    # Loop over frames from the video stream\n",
    "    while True:\n",
    "        # Grab the frame from the threaded video file stream, resize it, and convert to grayscale\n",
    "        frame = vs.read()\n",
    "        frame = imutils.resize(frame, width=450)\n",
    "        gray = cv2.cvtColor(frame, cv2.COLOR_BGR2GRAY)\n",
    "\n",
    "        # Detect faces in the grayscale frame\n",
    "        rects = detector(gray, 0)\n",
    "\n",
    "        # Loop over the face detections\n",
    "        for rect in rects:\n",
    "            shape = predictor(gray, rect)\n",
    "            shape = face_utils.shape_to_np(shape)\n",
    "            leftEye = shape[lStart:lEnd]\n",
    "            rightEye = shape[rStart:rEnd]\n",
    "            leftEAR = eye_aspect_ratio(leftEye)\n",
    "            rightEAR = eye_aspect_ratio(rightEye)\n",
    "            ear = (leftEAR + rightEAR) / 2.0\n",
    "\n",
    "            # Compute the convex hull for the left and right eye\n",
    "            leftEyeHull = cv2.convexHull(leftEye)\n",
    "            rightEyeHull = cv2.convexHull(rightEye)\n",
    "            cv2.drawContours(frame, [leftEyeHull], -1, (0, 255, 0), 1)\n",
    "            cv2.drawContours(frame, [rightEyeHull], -1, (0, 255, 0), 1)\n",
    "\n",
    "            # Check if the eye aspect ratio is below the threshold\n",
    "            if ear < EYE_AR_THRESH:\n",
    "                COUNTER += 1\n",
    "                if COUNTER >= EYE_AR_CONSEC_FRAMES:\n",
    "                    if not ALARM_ON:\n",
    "                        ALARM_ON = True\n",
    "                        if args[\"alarm\"] != \"\":\n",
    "                            t = Thread(target=sound_alarm, args=(args[\"alarm\"],))\n",
    "                            t.daemon = True\n",
    "                            t.start()\n",
    "                    cv2.putText(frame, \"DROWSINESS ALERT!\", (10, 30),\n",
    "                                cv2.FONT_HERSHEY_SIMPLEX, 0.7, (0, 0, 255), 2)\n",
    "            else:\n",
    "                COUNTER = 0\n",
    "                ALARM_ON = False\n",
    "\n",
    "            cv2.putText(frame, \"EAR: {:.2f}\".format(ear), (300, 30),\n",
    "                        cv2.FONT_HERSHEY_SIMPLEX, 0.7, (0, 0, 255), 2)\n",
    "\n",
    "        # Show the frame\n",
    "        cv2.imshow(\"Frame\", frame)\n",
    "        key = cv2.waitKey(1) & 0xFF\n",
    "\n",
    "        # If the `q` key was pressed, break from the loop\n",
    "        if key == ord(\"q\"):\n",
    "            break\n",
    "\n",
    "except Exception as e:\n",
    "    print(f\"[ERROR] {e}\")\n",
    "\n",
    "finally:\n",
    "    print(\"[INFO] Cleaning up...\")\n",
    "\n",
    "    # Turn off alarm if it's playing\n",
    "    if ALARM_ON:\n",
    "        print(\"[INFO] Stopping the alarm...\")\n",
    "        ALARM_ON = False\n",
    "\n",
    "    # Properly stop the video stream and release webcam resources\n",
    "    if vs is not None:\n",
    "        vs.stop()\n",
    "    if hasattr(vs, \"stream\"):\n",
    "        vs.stream.release()\n",
    "\n",
    "    # Close all OpenCV windows\n",
    "    cv2.destroyAllWindows()\n",
    "    print(\"[INFO] Webcam and video stream stopped.\")\n"
   ],
   "id": "c306d288939158a9",
   "outputs": [
    {
     "name": "stdout",
     "output_type": "stream",
     "text": [
      "[INFO] starting video stream thread...\n",
      "[INFO] Cleaning up...\n",
      "[INFO] Webcam and video stream stopped.\n"
     ]
    }
   ],
   "execution_count": 8
  }
 ],
 "metadata": {
  "kernelspec": {
   "display_name": "Python 3",
   "language": "python",
   "name": "python3"
  },
  "language_info": {
   "codemirror_mode": {
    "name": "ipython",
    "version": 2
   },
   "file_extension": ".py",
   "mimetype": "text/x-python",
   "name": "python",
   "nbconvert_exporter": "python",
   "pygments_lexer": "ipython2",
   "version": "2.7.6"
  }
 },
 "nbformat": 4,
 "nbformat_minor": 5
}
